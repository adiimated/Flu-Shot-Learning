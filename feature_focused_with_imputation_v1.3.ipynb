{
  "nbformat": 4,
  "nbformat_minor": 0,
  "metadata": {
    "colab": {
      "provenance": []
    },
    "kernelspec": {
      "name": "python3",
      "display_name": "Python 3"
    },
    "language_info": {
      "name": "python"
    }
  },
  "cells": [
    {
      "cell_type": "code",
      "execution_count": 1,
      "metadata": {
        "colab": {
          "base_uri": "https://localhost:8080/"
        },
        "id": "VlOR-dszJxiv",
        "outputId": "ce9c815c-8e42-441b-a416-6c8d2e46d52c"
      },
      "outputs": [
        {
          "output_type": "stream",
          "name": "stdout",
          "text": [
            "Drive already mounted at /content/gdrive; to attempt to forcibly remount, call drive.mount(\"/content/gdrive\", force_remount=True).\n"
          ]
        }
      ],
      "source": [
        "from google.colab import drive\n",
        "drive.mount('/content/gdrive')"
      ]
    },
    {
      "cell_type": "code",
      "source": [
        "import os\n",
        "os.chdir('/content/gdrive/MyDrive/health')"
      ],
      "metadata": {
        "id": "uSZgN29bMD0X"
      },
      "execution_count": 2,
      "outputs": []
    },
    {
      "cell_type": "code",
      "source": [
        "import pandas as pd\n",
        "\n",
        "features_path = 'training_set_features.csv'\n",
        "labels_path = 'training_set_labels.csv'\n",
        "features_df = pd.read_csv(features_path)\n",
        "labels_df = pd.read_csv(labels_path)"
      ],
      "metadata": {
        "id": "UsAtfctZMkQP"
      },
      "execution_count": 3,
      "outputs": []
    },
    {
      "cell_type": "code",
      "source": [
        "data_df = pd.merge(features_df, labels_df, on='respondent_id')"
      ],
      "metadata": {
        "id": "rXltkr34NA89"
      },
      "execution_count": 4,
      "outputs": []
    },
    {
      "cell_type": "code",
      "source": [
        "data_df.shape"
      ],
      "metadata": {
        "colab": {
          "base_uri": "https://localhost:8080/"
        },
        "id": "IiIFLU0_6795",
        "outputId": "bd6d0942-c52c-441b-963a-e639afc83323"
      },
      "execution_count": 5,
      "outputs": [
        {
          "output_type": "execute_result",
          "data": {
            "text/plain": [
              "(26707, 38)"
            ]
          },
          "metadata": {},
          "execution_count": 5
        }
      ]
    },
    {
      "cell_type": "code",
      "source": [
        "# Calculate the correlation matrix for the entire dataset including the target variables\n",
        "full_corr_matrix = data_df.corr()\n",
        "\n",
        "# Extract the correlations with the target variables and sort them in descending order\n",
        "h1n1_corr = full_corr_matrix['h1n1_vaccine'].sort_values(ascending=False)\n",
        "seasonal_corr = full_corr_matrix['seasonal_vaccine'].sort_values(ascending=False)\n",
        "\n",
        "# Display the sorted correlations for each target variable\n",
        "print(\"Correlation with H1N1 Vaccine:\")\n",
        "print(h1n1_corr)\n",
        "print(\"\\nCorrelation with Seasonal Vaccine:\")\n",
        "print(seasonal_corr)"
      ],
      "metadata": {
        "colab": {
          "base_uri": "https://localhost:8080/"
        },
        "id": "arwfomP77xft",
        "outputId": "9d7eb28c-b39c-405c-fbf9-c2a06eb7443e"
      },
      "execution_count": 6,
      "outputs": [
        {
          "output_type": "stream",
          "name": "stdout",
          "text": [
            "Correlation with H1N1 Vaccine:\n",
            "h1n1_vaccine                   1.000000\n",
            "doctor_recc_h1n1               0.393890\n",
            "seasonal_vaccine               0.377143\n",
            "opinion_h1n1_risk              0.323265\n",
            "opinion_h1n1_vacc_effective    0.269347\n",
            "opinion_seas_risk              0.258571\n",
            "doctor_recc_seasonal           0.209864\n",
            "opinion_seas_vacc_effective    0.179272\n",
            "health_worker                  0.169768\n",
            "h1n1_concern                   0.121929\n",
            "health_insurance               0.121170\n",
            "h1n1_knowledge                 0.117951\n",
            "chronic_med_condition          0.095207\n",
            "opinion_h1n1_sick_from_vacc    0.075091\n",
            "behavioral_wash_hands          0.074712\n",
            "behavioral_touch_face          0.071648\n",
            "behavioral_face_mask           0.070498\n",
            "child_under_6_months           0.066962\n",
            "behavioral_avoidance           0.047690\n",
            "behavioral_antiviral_meds      0.040608\n",
            "behavioral_outside_home        0.021768\n",
            "behavioral_large_gatherings    0.017822\n",
            "opinion_seas_sick_from_vacc    0.008360\n",
            "household_adults               0.007545\n",
            "respondent_id                 -0.003280\n",
            "household_children            -0.003320\n",
            "Name: h1n1_vaccine, dtype: float64\n",
            "\n",
            "Correlation with Seasonal Vaccine:\n",
            "seasonal_vaccine               1.000000\n",
            "opinion_seas_risk              0.390106\n",
            "h1n1_vaccine                   0.377143\n",
            "doctor_recc_seasonal           0.369190\n",
            "opinion_seas_vacc_effective    0.361875\n",
            "opinion_h1n1_risk              0.216625\n",
            "opinion_h1n1_vacc_effective    0.205072\n",
            "health_insurance               0.200858\n",
            "doctor_recc_h1n1               0.198607\n",
            "chronic_med_condition          0.170174\n",
            "h1n1_concern                   0.154828\n",
            "health_worker                  0.127311\n",
            "behavioral_touch_face          0.120228\n",
            "h1n1_knowledge                 0.120152\n",
            "behavioral_wash_hands          0.112414\n",
            "behavioral_avoidance           0.076395\n",
            "behavioral_large_gatherings    0.064025\n",
            "behavioral_outside_home        0.053509\n",
            "behavioral_face_mask           0.050083\n",
            "opinion_h1n1_sick_from_vacc    0.027404\n",
            "child_under_6_months           0.012097\n",
            "behavioral_antiviral_meds      0.006277\n",
            "respondent_id                 -0.004652\n",
            "opinion_seas_sick_from_vacc   -0.061510\n",
            "household_adults              -0.064840\n",
            "household_children            -0.114614\n",
            "Name: seasonal_vaccine, dtype: float64\n"
          ]
        },
        {
          "output_type": "stream",
          "name": "stderr",
          "text": [
            "<ipython-input-6-79327f1a2b19>:2: FutureWarning: The default value of numeric_only in DataFrame.corr is deprecated. In a future version, it will default to False. Select only valid columns or specify the value of numeric_only to silence this warning.\n",
            "  full_corr_matrix = data_df.corr()\n"
          ]
        }
      ]
    },
    {
      "cell_type": "markdown",
      "source": [
        "## H1N1: Feature Focused - With Mean and Most Frequent Imputation"
      ],
      "metadata": {
        "id": "jOuQbFFUJlgW"
      }
    },
    {
      "cell_type": "code",
      "source": [
        "from sklearn.model_selection import train_test_split\n",
        "from sklearn.impute import SimpleImputer\n",
        "from sklearn.preprocessing import StandardScaler, OneHotEncoder\n",
        "from sklearn.compose import ColumnTransformer\n",
        "from sklearn.pipeline import Pipeline\n",
        "from sklearn.metrics import accuracy_score, roc_auc_score\n",
        "\n",
        "# Requirements - machine learning models\n",
        "from sklearn.linear_model import LogisticRegression\n",
        "from sklearn.ensemble import RandomForestClassifier, GradientBoostingClassifier\n",
        "from sklearn.svm import SVC\n",
        "from xgboost import XGBClassifier\n",
        "\n",
        "# selected features based on correlation\n",
        "features = [\n",
        "    'doctor_recc_h1n1', 'seasonal_vaccine', 'opinion_h1n1_risk',\n",
        "    'opinion_h1n1_vacc_effective', 'opinion_seas_risk', 'doctor_recc_seasonal',\n",
        "    'opinion_seas_vacc_effective', 'health_worker', 'h1n1_concern',\n",
        "    'health_insurance', 'h1n1_knowledge'\n",
        "]\n",
        "X = data_df[features]\n",
        "y = data_df['h1n1_vaccine']\n",
        "\n",
        "X_train, X_test, y_train, y_test = train_test_split(X, y, test_size=0.2, random_state=0)\n",
        "\n",
        "# missing values for categorical data - most frequent value\n",
        "categorical_cols = X_train.select_dtypes(include=['object', 'category']).columns\n",
        "categorical_transformer = Pipeline(steps=[\n",
        "    ('imputer', SimpleImputer(strategy='most_frequent')),\n",
        "    ('onehot', OneHotEncoder(handle_unknown='ignore'))\n",
        "])\n",
        "\n",
        "# numerical data - mean value\n",
        "numerical_cols = X_train.select_dtypes(include=['int64', 'float64']).columns\n",
        "numerical_transformer = Pipeline(steps=[\n",
        "    ('imputer', SimpleImputer(strategy='mean')),\n",
        "    ('scaler', StandardScaler())\n",
        "])\n",
        "\n",
        "preprocessor = ColumnTransformer(\n",
        "    transformers=[\n",
        "        ('num', numerical_transformer, numerical_cols),\n",
        "        ('cat', categorical_transformer, categorical_cols)\n",
        "    ])\n",
        "\n",
        "models = {\n",
        "    \"Logistic Regression\": LogisticRegression(max_iter=1000),\n",
        "    \"Random Forest\": RandomForestClassifier(),\n",
        "    \"Gradient Boosting\": GradientBoostingClassifier(),\n",
        "    \"SVM\": SVC(probability=True),\n",
        "    \"XGBoost\": XGBClassifier(use_label_encoder=False, eval_metric='logloss')\n",
        "}\n",
        "\n",
        "results = {}\n",
        "for name, model in models.items():\n",
        "    # Create and fit the pipeline\n",
        "    pipeline = Pipeline(steps=[('preprocessor', preprocessor),\n",
        "                               ('model', model)])\n",
        "    pipeline.fit(X_train, y_train)\n",
        "\n",
        "    # Predictions\n",
        "    y_pred = pipeline.predict(X_test)\n",
        "    y_prob = pipeline.predict_proba(X_test)[:, 1] # For ROC AUC score\n",
        "\n",
        "    accuracy = accuracy_score(y_test, y_pred)\n",
        "    roc_auc = roc_auc_score(y_test, y_prob)\n",
        "\n",
        "    results[name] = {\"Accuracy\": accuracy, \"ROC AUC\": roc_auc}\n",
        "\n",
        "for model_name, metrics in results.items():\n",
        "    print(f\"{model_name} - Accuracy: {metrics['Accuracy']:.4f}, ROC AUC: {metrics['ROC AUC']:.4f}\")"
      ],
      "metadata": {
        "colab": {
          "base_uri": "https://localhost:8080/"
        },
        "id": "hNafnzMZ_6JM",
        "outputId": "6b330510-37b8-4342-ee18-40a46fb556d1"
      },
      "execution_count": 7,
      "outputs": [
        {
          "output_type": "stream",
          "name": "stdout",
          "text": [
            "Logistic Regression - Accuracy: 0.8478, ROC AUC: 0.8639\n",
            "Random Forest - Accuracy: 0.8424, ROC AUC: 0.8552\n",
            "Gradient Boosting - Accuracy: 0.8575, ROC AUC: 0.8880\n",
            "SVM - Accuracy: 0.8598, ROC AUC: 0.8451\n",
            "XGBoost - Accuracy: 0.8545, ROC AUC: 0.8788\n"
          ]
        }
      ]
    },
    {
      "cell_type": "code",
      "source": [
        "import joblib\n",
        "\n",
        "# Define the Gradient Boosting model\n",
        "gradient_boosting_model = GradientBoostingClassifier()\n",
        "\n",
        "# Create and fit the pipeline with Gradient Boosting\n",
        "pipeline_gb = Pipeline(steps=[('preprocessor', preprocessor),\n",
        "                              ('model', gradient_boosting_model)])\n",
        "pipeline_gb.fit(X_train, y_train)\n",
        "\n",
        "# Evaluate the Gradient Boosting model\n",
        "y_pred_gb = pipeline_gb.predict(X_test)\n",
        "accuracy_gb = accuracy_score(y_test, y_pred_gb)\n",
        "roc_auc_gb = roc_auc_score(y_test, pipeline_gb.predict_proba(X_test)[:, 1])\n",
        "print(f\"Accuracy with Gradient Boosting: {accuracy_gb}, ROC AUC: {roc_auc_gb}\")\n",
        "\n",
        "# Save the Gradient Boosting model's weights\n",
        "model_filename_gb = 'gradient_boosting_ff_h1n1_vaccine_model.joblib'\n",
        "joblib.dump(pipeline_gb, model_filename_gb)\n",
        "print(f\"Gradient Boosting model saved to {model_filename_gb}\")"
      ],
      "metadata": {
        "colab": {
          "base_uri": "https://localhost:8080/"
        },
        "id": "Y0Z-0dkIHvb_",
        "outputId": "3d2bb0ce-633c-47d6-8d2b-a3641cfb28e8"
      },
      "execution_count": 9,
      "outputs": [
        {
          "output_type": "stream",
          "name": "stdout",
          "text": [
            "Accuracy with Gradient Boosting: 0.8575439910146013, ROC AUC: 0.887986761560587\n",
            "Gradient Boosting model saved to gradient_boosting_ff_h1n1_vaccine_model.joblib\n"
          ]
        }
      ]
    },
    {
      "cell_type": "markdown",
      "source": [
        "## Seasonal Vaccine: Feature Focused - With Mean and Most Frequent Imputation"
      ],
      "metadata": {
        "id": "2dfLNvEVFdG7"
      }
    },
    {
      "cell_type": "code",
      "source": [
        "from sklearn.model_selection import train_test_split\n",
        "from sklearn.impute import SimpleImputer\n",
        "from sklearn.preprocessing import StandardScaler, OneHotEncoder\n",
        "from sklearn.compose import ColumnTransformer\n",
        "from sklearn.pipeline import Pipeline\n",
        "from sklearn.metrics import accuracy_score, roc_auc_score\n",
        "\n",
        "# requirements - machine learning models\n",
        "from sklearn.linear_model import LogisticRegression\n",
        "from sklearn.ensemble import RandomForestClassifier, GradientBoostingClassifier\n",
        "from sklearn.svm import SVC\n",
        "from xgboost import XGBClassifier\n",
        "\n",
        "# selected features based on correlation for seasonal vaccine\n",
        "features_seasonal = [\n",
        "    'opinion_seas_risk', 'h1n1_vaccine', 'doctor_recc_seasonal',\n",
        "    'opinion_seas_vacc_effective', 'opinion_h1n1_risk', 'opinion_h1n1_vacc_effective',\n",
        "    'health_insurance', 'doctor_recc_h1n1', 'chronic_med_condition',\n",
        "    'h1n1_concern', 'health_worker', 'behavioral_touch_face'\n",
        "]\n",
        "X = data_df[features_seasonal]\n",
        "y = data_df['seasonal_vaccine']\n",
        "X_train, X_test, y_train, y_test = train_test_split(X, y, test_size=0.2, random_state=0)\n",
        "\n",
        "# categorical data - most frequent value\n",
        "categorical_cols = X_train.select_dtypes(include=['object', 'category']).columns\n",
        "categorical_transformer = Pipeline(steps=[\n",
        "    ('imputer', SimpleImputer(strategy='most_frequent')),\n",
        "    ('onehot', OneHotEncoder(handle_unknown='ignore'))\n",
        "])\n",
        "\n",
        "# numerical data - mean value\n",
        "numerical_cols = X_train.select_dtypes(include=['int64', 'float64']).columns\n",
        "numerical_transformer = Pipeline(steps=[\n",
        "    ('imputer', SimpleImputer(strategy='mean')),\n",
        "    ('scaler', StandardScaler())\n",
        "])\n",
        "\n",
        "preprocessor = ColumnTransformer(\n",
        "    transformers=[\n",
        "        ('num', numerical_transformer, numerical_cols),\n",
        "        ('cat', categorical_transformer, categorical_cols)\n",
        "    ])\n",
        "\n",
        "models = {\n",
        "    \"Logistic Regression\": LogisticRegression(max_iter=1000),\n",
        "    \"Random Forest\": RandomForestClassifier(),\n",
        "    \"Gradient Boosting\": GradientBoostingClassifier(),\n",
        "    \"SVM\": SVC(probability=True),\n",
        "    \"XGBoost\": XGBClassifier(use_label_encoder=False, eval_metric='logloss')\n",
        "}\n",
        "\n",
        "results_seasonal = {}\n",
        "for name, model in models.items():\n",
        "    # Create and fit the pipeline\n",
        "    pipeline = Pipeline(steps=[('preprocessor', preprocessor),\n",
        "                               ('model', model)])\n",
        "    pipeline.fit(X_train, y_train)\n",
        "\n",
        "    # Predictions\n",
        "    y_pred = pipeline.predict(X_test)\n",
        "    y_prob = pipeline.predict_proba(X_test)[:, 1] # For ROC AUC score\n",
        "\n",
        "    # Calculate accuracy and ROC AUC score\n",
        "    accuracy = accuracy_score(y_test, y_pred)\n",
        "    roc_auc = roc_auc_score(y_test, y_prob)\n",
        "\n",
        "    results_seasonal[name] = {\"Accuracy\": accuracy, \"ROC AUC\": roc_auc}\n",
        "\n",
        "# Display results for seasonal vaccine prediction\n",
        "for model_name, metrics in results_seasonal.items():\n",
        "    print(f\"{model_name} - Accuracy: {metrics['Accuracy']:.4f}, ROC AUC: {metrics['ROC AUC']:.4f}\")"
      ],
      "metadata": {
        "colab": {
          "base_uri": "https://localhost:8080/"
        },
        "id": "WZhF3ANCA6tn",
        "outputId": "e9fc5243-9c82-475a-a7b9-185c325ac14e"
      },
      "execution_count": 10,
      "outputs": [
        {
          "output_type": "stream",
          "name": "stdout",
          "text": [
            "Logistic Regression - Accuracy: 0.7849, ROC AUC: 0.8568\n",
            "Random Forest - Accuracy: 0.7628, ROC AUC: 0.8272\n",
            "Gradient Boosting - Accuracy: 0.7939, ROC AUC: 0.8680\n",
            "SVM - Accuracy: 0.7853, ROC AUC: 0.8470\n",
            "XGBoost - Accuracy: 0.7849, ROC AUC: 0.8571\n"
          ]
        }
      ]
    },
    {
      "cell_type": "code",
      "source": [
        "gradient_boosting_model = GradientBoostingClassifier()\n",
        "\n",
        "pipeline = Pipeline(steps=[('preprocessor', preprocessor),\n",
        "                           ('model', gradient_boosting_model)])\n",
        "pipeline.fit(X_train, y_train)\n",
        "\n",
        "y_pred = pipeline.predict(X_test)\n",
        "accuracy = accuracy_score(y_test, y_pred)\n",
        "roc_auc = roc_auc_score(y_test, pipeline.predict_proba(X_test)[:, 1])\n",
        "print(f\"Accuracy: {accuracy}, ROC AUC: {roc_auc}\")\n",
        "\n",
        "model_filename = 'gradient_boosting_ff_seasonal_vaccine_model.joblib'\n",
        "joblib.dump(pipeline, model_filename)\n",
        "\n",
        "print(f\"Model saved to {model_filename}\")"
      ],
      "metadata": {
        "colab": {
          "base_uri": "https://localhost:8080/"
        },
        "id": "NWhkjNxIDj3k",
        "outputId": "32bfb87f-6099-467a-dfbd-0291d7f94d7d"
      },
      "execution_count": 11,
      "outputs": [
        {
          "output_type": "stream",
          "name": "stdout",
          "text": [
            "Accuracy: 0.793897416697866, ROC AUC: 0.8680182551701291\n",
            "Model saved to gradient_boosting_ff_seasonal_vaccine_model.joblib\n"
          ]
        }
      ]
    }
  ]
}