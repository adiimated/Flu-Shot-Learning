{
  "nbformat": 4,
  "nbformat_minor": 0,
  "metadata": {
    "colab": {
      "provenance": []
    },
    "kernelspec": {
      "name": "python3",
      "display_name": "Python 3"
    },
    "language_info": {
      "name": "python"
    }
  },
  "cells": [
    {
      "cell_type": "code",
      "execution_count": null,
      "metadata": {
        "colab": {
          "base_uri": "https://localhost:8080/"
        },
        "id": "bGiH8SADb6Zt",
        "outputId": "d9358426-6d47-4a63-f65a-649dc9c7331e"
      },
      "outputs": [
        {
          "output_type": "stream",
          "name": "stdout",
          "text": [
            "Mounted at /content/gdrive\n"
          ]
        }
      ],
      "source": [
        "from google.colab import drive\n",
        "drive.mount('/content/gdrive')"
      ]
    },
    {
      "cell_type": "code",
      "source": [
        "import os\n",
        "os.chdir('/content/gdrive/MyDrive/health')"
      ],
      "metadata": {
        "id": "UTlUWlrIdM9g"
      },
      "execution_count": null,
      "outputs": []
    },
    {
      "cell_type": "code",
      "source": [
        "import pandas as pd\n",
        "features_path = 'training_set_features.csv'\n",
        "labels_path = 'training_set_labels.csv'\n",
        "features_df = pd.read_csv(features_path)\n",
        "labels_df = pd.read_csv(labels_path)"
      ],
      "metadata": {
        "id": "M7YxLHw3b_ml"
      },
      "execution_count": null,
      "outputs": []
    },
    {
      "cell_type": "code",
      "source": [
        "df = pd.merge(features_df, labels_df, on='respondent_id')"
      ],
      "metadata": {
        "id": "cR4-pX_tb_j4"
      },
      "execution_count": null,
      "outputs": []
    },
    {
      "cell_type": "code",
      "source": [
        "import pandas as pd\n",
        "from sklearn.model_selection import train_test_split\n",
        "from sklearn.preprocessing import StandardScaler, OneHotEncoder\n",
        "from sklearn.impute import SimpleImputer\n",
        "from sklearn.compose import ColumnTransformer\n",
        "from sklearn.pipeline import Pipeline\n",
        "from sklearn.linear_model import LogisticRegression\n",
        "from sklearn.ensemble import RandomForestClassifier, GradientBoostingClassifier\n",
        "from sklearn.svm import SVC\n",
        "from xgboost import XGBClassifier\n",
        "from sklearn.metrics import accuracy_score, roc_auc_score"
      ],
      "metadata": {
        "id": "fkoVBN7sb_eh"
      },
      "execution_count": null,
      "outputs": []
    },
    {
      "cell_type": "code",
      "source": [
        "features = df.drop(columns=['h1n1_vaccine', 'seasonal_vaccine'])\n",
        "h1n1_target = df['h1n1_vaccine']\n",
        "seasonal_target = df['seasonal_vaccine']"
      ],
      "metadata": {
        "id": "Hiz5EsKDb_bs"
      },
      "execution_count": null,
      "outputs": []
    },
    {
      "cell_type": "code",
      "source": [
        "X_train_h1n1, X_val_h1n1, y_train_h1n1, y_val_h1n1 = train_test_split(features, h1n1_target, test_size=0.2, random_state=42)\n",
        "X_train_seasonal, X_val_seasonal, y_train_seasonal, y_val_seasonal = train_test_split(features, seasonal_target, test_size=0.2, random_state=42)"
      ],
      "metadata": {
        "id": "KhAqFDk7b_Y_"
      },
      "execution_count": null,
      "outputs": []
    },
    {
      "cell_type": "code",
      "source": [
        "# Identifying numerical and categorical columns\n",
        "numerical_cols = features.select_dtypes(include=['int64', 'float64']).columns\n",
        "categorical_cols = features.select_dtypes(include=['object', 'bool']).columns\n",
        "\n",
        "# Creating pipelines for numerical and categorical preprocessing\n",
        "numerical_transformer = Pipeline(steps=[\n",
        "    ('imputer', SimpleImputer(strategy='mean')),\n",
        "    ('scaler', StandardScaler())])\n",
        "\n",
        "categorical_transformer = Pipeline(steps=[\n",
        "    ('imputer', SimpleImputer(strategy='most_frequent')),\n",
        "    ('onehot', OneHotEncoder(handle_unknown='ignore'))])\n",
        "\n",
        "# Combining preprocessing steps\n",
        "preprocessor = ColumnTransformer(\n",
        "    transformers=[\n",
        "        ('num', numerical_transformer, numerical_cols),\n",
        "        ('cat', categorical_transformer, categorical_cols)])"
      ],
      "metadata": {
        "id": "LzIa306Qb_Wg"
      },
      "execution_count": null,
      "outputs": []
    },
    {
      "cell_type": "code",
      "source": [
        "# Model dictionary\n",
        "models = {\n",
        "    \"Logistic Regression\": LogisticRegression(max_iter=1000),\n",
        "    \"RandomForest\": RandomForestClassifier(),\n",
        "    \"GradientBoosting\": GradientBoostingClassifier(),\n",
        "    \"SVM\": SVC(probability=True),\n",
        "    \"XGBoost\": XGBClassifier(use_label_encoder=False, eval_metric='logloss')\n",
        "}"
      ],
      "metadata": {
        "id": "xwgckgkJcgFC"
      },
      "execution_count": null,
      "outputs": []
    },
    {
      "cell_type": "code",
      "source": [
        "# Function to train and evaluate models\n",
        "def evaluate_models(models, X_train, y_train, X_val, y_val):\n",
        "    results = []\n",
        "    for name, model in models.items():\n",
        "        pipeline = Pipeline(steps=[('preprocessor', preprocessor),\n",
        "                                   ('model', model)])\n",
        "\n",
        "        pipeline.fit(X_train, y_train)\n",
        "        y_pred = pipeline.predict(X_val)\n",
        "        accuracy = accuracy_score(y_val, y_pred)\n",
        "        roc_auc = roc_auc_score(y_val, pipeline.predict_proba(X_val)[:, 1])\n",
        "\n",
        "        results.append({\"Model\": name, \"Accuracy\": accuracy, \"ROC AUC\": roc_auc})\n",
        "    return pd.DataFrame(results)"
      ],
      "metadata": {
        "id": "e0rI85hJcgBw"
      },
      "execution_count": null,
      "outputs": []
    },
    {
      "cell_type": "code",
      "source": [
        "# Evaluate models for H1N1\n",
        "h1n1_results = evaluate_models(models, X_train_h1n1, y_train_h1n1, X_val_h1n1, y_val_h1n1)\n",
        "print(\"H1N1 Vaccine Predictions:\")\n",
        "print(h1n1_results)"
      ],
      "metadata": {
        "colab": {
          "base_uri": "https://localhost:8080/"
        },
        "id": "idRvsoJ-cf-P",
        "outputId": "c85d642a-d39b-4076-c989-9972c8a966da"
      },
      "execution_count": null,
      "outputs": [
        {
          "output_type": "stream",
          "name": "stdout",
          "text": [
            "H1N1 Vaccine Predictions:\n",
            "                 Model  Accuracy   ROC AUC\n",
            "0  Logistic Regression  0.840509  0.834358\n",
            "1         RandomForest  0.850431  0.863636\n",
            "2     GradientBoosting  0.854362  0.869895\n",
            "3                  SVM  0.845376  0.844666\n",
            "4              XGBoost  0.850805  0.855948\n"
          ]
        }
      ]
    },
    {
      "cell_type": "code",
      "source": [
        "# Evaluate models for Seasonal Flu\n",
        "seasonal_results = evaluate_models(models, X_train_seasonal, y_train_seasonal, X_val_seasonal, y_val_seasonal)\n",
        "print(\"\\nSeasonal Flu Vaccine Predictions:\")\n",
        "print(seasonal_results)"
      ],
      "metadata": {
        "colab": {
          "base_uri": "https://localhost:8080/"
        },
        "id": "qju2NnfncskZ",
        "outputId": "334ae01c-53f9-4853-d91f-34d2db26b9f5"
      },
      "execution_count": null,
      "outputs": [
        {
          "output_type": "stream",
          "name": "stdout",
          "text": [
            "\n",
            "Seasonal Flu Vaccine Predictions:\n",
            "                 Model  Accuracy   ROC AUC\n",
            "0  Logistic Regression  0.785474  0.856446\n",
            "1         RandomForest  0.778547  0.853965\n",
            "2     GradientBoosting  0.791838  0.863505\n",
            "3                  SVM  0.784725  0.856926\n",
            "4              XGBoost  0.783040  0.857340\n"
          ]
        }
      ]
    }
  ]
}